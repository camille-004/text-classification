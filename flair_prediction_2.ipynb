{
 "cells": [
  {
   "cell_type": "markdown",
   "metadata": {},
   "source": [
    "# Load Dataset"
   ]
  },
  {
   "cell_type": "code",
   "execution_count": 315,
   "metadata": {},
   "outputs": [
    {
     "data": {
      "text/html": [
       "<div>\n",
       "<style scoped>\n",
       "    .dataframe tbody tr th:only-of-type {\n",
       "        vertical-align: middle;\n",
       "    }\n",
       "\n",
       "    .dataframe tbody tr th {\n",
       "        vertical-align: top;\n",
       "    }\n",
       "\n",
       "    .dataframe thead th {\n",
       "        text-align: right;\n",
       "    }\n",
       "</style>\n",
       "<table border=\"1\" class=\"dataframe\">\n",
       "  <thead>\n",
       "    <tr style=\"text-align: right;\">\n",
       "      <th></th>\n",
       "      <th>flair</th>\n",
       "      <th>id</th>\n",
       "      <th>text</th>\n",
       "    </tr>\n",
       "  </thead>\n",
       "  <tbody>\n",
       "    <tr>\n",
       "      <th>0</th>\n",
       "      <td>AskIndia</td>\n",
       "      <td>fwjdqr</td>\n",
       "      <td>4 days ago pending orders 100 million hydroxyc...</td>\n",
       "    </tr>\n",
       "    <tr>\n",
       "      <th>1</th>\n",
       "      <td>AskIndia</td>\n",
       "      <td>fizkkk</td>\n",
       "      <td>randians big time users dating apps like tinde...</td>\n",
       "    </tr>\n",
       "    <tr>\n",
       "      <th>2</th>\n",
       "      <td>AskIndia</td>\n",
       "      <td>f25vx0</td>\n",
       "      <td>r india thinks flat earthershavent found india...</td>\n",
       "    </tr>\n",
       "    <tr>\n",
       "      <th>3</th>\n",
       "      <td>AskIndia</td>\n",
       "      <td>dtvliq</td>\n",
       "      <td>people left 9 5 jobs pursue career music art f...</td>\n",
       "    </tr>\n",
       "    <tr>\n",
       "      <th>4</th>\n",
       "      <td>AskIndia</td>\n",
       "      <td>b7pvwt</td>\n",
       "      <td>somebody want kill full familycalm downgo sp o...</td>\n",
       "    </tr>\n",
       "    <tr>\n",
       "      <th>...</th>\n",
       "      <td>...</td>\n",
       "      <td>...</td>\n",
       "      <td>...</td>\n",
       "    </tr>\n",
       "    <tr>\n",
       "      <th>1213</th>\n",
       "      <td>Coronavirus</td>\n",
       "      <td>fxxxrn</td>\n",
       "      <td>actual coronavirus cases least four times repo...</td>\n",
       "    </tr>\n",
       "    <tr>\n",
       "      <th>1214</th>\n",
       "      <td>Coronavirus</td>\n",
       "      <td>fy7ut2</td>\n",
       "      <td>donate helping coronavirusstate government fun...</td>\n",
       "    </tr>\n",
       "    <tr>\n",
       "      <th>1215</th>\n",
       "      <td>Coronavirus</td>\n",
       "      <td>fxul63</td>\n",
       "      <td>youth beaten female doctors attacked delhi pre...</td>\n",
       "    </tr>\n",
       "    <tr>\n",
       "      <th>1216</th>\n",
       "      <td>Coronavirus</td>\n",
       "      <td>fy3n43</td>\n",
       "      <td>coronavirus centre concerned polarisation reli...</td>\n",
       "    </tr>\n",
       "    <tr>\n",
       "      <th>1217</th>\n",
       "      <td>Coronavirus</td>\n",
       "      <td>fy3tg9</td>\n",
       "      <td>coronavirus pooled testing planned zerocase di...</td>\n",
       "    </tr>\n",
       "  </tbody>\n",
       "</table>\n",
       "<p>1218 rows × 3 columns</p>\n",
       "</div>"
      ],
      "text/plain": [
       "            flair      id                                               text\n",
       "0        AskIndia  fwjdqr  4 days ago pending orders 100 million hydroxyc...\n",
       "1        AskIndia  fizkkk  randians big time users dating apps like tinde...\n",
       "2        AskIndia  f25vx0  r india thinks flat earthershavent found india...\n",
       "3        AskIndia  dtvliq  people left 9 5 jobs pursue career music art f...\n",
       "4        AskIndia  b7pvwt  somebody want kill full familycalm downgo sp o...\n",
       "...           ...     ...                                                ...\n",
       "1213  Coronavirus  fxxxrn  actual coronavirus cases least four times repo...\n",
       "1214  Coronavirus  fy7ut2  donate helping coronavirusstate government fun...\n",
       "1215  Coronavirus  fxul63  youth beaten female doctors attacked delhi pre...\n",
       "1216  Coronavirus  fy3n43  coronavirus centre concerned polarisation reli...\n",
       "1217  Coronavirus  fy3tg9  coronavirus pooled testing planned zerocase di...\n",
       "\n",
       "[1218 rows x 3 columns]"
      ]
     },
     "execution_count": 315,
     "metadata": {},
     "output_type": "execute_result"
    }
   ],
   "source": [
    "import numpy as np\n",
    "import pandas as pd\n",
    "import matplotlib.pyplot as plt\n",
    "import itertools\n",
    "\n",
    "# Feature Engineering and Model Selection Modules\n",
    "from sklearn.preprocessing import LabelEncoder\n",
    "from sklearn.feature_extraction.text import CountVectorizer\n",
    "from sklearn.feature_extraction.text import TfidfVectorizer\n",
    "from sklearn.feature_selection import SelectKBest\n",
    "from sklearn.feature_selection import f_classif\n",
    "from sklearn.model_selection import train_test_split\n",
    "from sklearn.model_selection import KFold\n",
    "\n",
    "# Deep Learning Modules\n",
    "import tensorflow as tf\n",
    "from tensorflow.python.keras import models\n",
    "from tensorflow.python.keras.layers import Dense\n",
    "from tensorflow.python.keras.layers import Dropout\n",
    "from tensorflow.python.keras.wrappers.scikit_learn import KerasClassifier\n",
    "from tensorflow.keras.regularizers import l2\n",
    "\n",
    "data = pd.read_csv('datafinal.csv')[\n",
    "    ['flair', 'id', 'combined_features']\n",
    "].rename(columns={'combined_features': 'text'})\n",
    "data"
   ]
  },
  {
   "cell_type": "markdown",
   "metadata": {},
   "source": [
    "# Encode the Labels"
   ]
  },
  {
   "cell_type": "code",
   "execution_count": 316,
   "metadata": {},
   "outputs": [
    {
     "data": {
      "text/html": [
       "<div>\n",
       "<style scoped>\n",
       "    .dataframe tbody tr th:only-of-type {\n",
       "        vertical-align: middle;\n",
       "    }\n",
       "\n",
       "    .dataframe tbody tr th {\n",
       "        vertical-align: top;\n",
       "    }\n",
       "\n",
       "    .dataframe thead th {\n",
       "        text-align: right;\n",
       "    }\n",
       "</style>\n",
       "<table border=\"1\" class=\"dataframe\">\n",
       "  <thead>\n",
       "    <tr style=\"text-align: right;\">\n",
       "      <th></th>\n",
       "      <th>flair</th>\n",
       "      <th>id</th>\n",
       "      <th>text</th>\n",
       "      <th>n_flair</th>\n",
       "    </tr>\n",
       "  </thead>\n",
       "  <tbody>\n",
       "    <tr>\n",
       "      <th>0</th>\n",
       "      <td>AskIndia</td>\n",
       "      <td>fwjdqr</td>\n",
       "      <td>4 days ago pending orders 100 million hydroxyc...</td>\n",
       "      <td>1</td>\n",
       "    </tr>\n",
       "    <tr>\n",
       "      <th>1</th>\n",
       "      <td>AskIndia</td>\n",
       "      <td>fizkkk</td>\n",
       "      <td>randians big time users dating apps like tinde...</td>\n",
       "      <td>1</td>\n",
       "    </tr>\n",
       "    <tr>\n",
       "      <th>2</th>\n",
       "      <td>AskIndia</td>\n",
       "      <td>f25vx0</td>\n",
       "      <td>r india thinks flat earthershavent found india...</td>\n",
       "      <td>1</td>\n",
       "    </tr>\n",
       "    <tr>\n",
       "      <th>3</th>\n",
       "      <td>AskIndia</td>\n",
       "      <td>dtvliq</td>\n",
       "      <td>people left 9 5 jobs pursue career music art f...</td>\n",
       "      <td>1</td>\n",
       "    </tr>\n",
       "    <tr>\n",
       "      <th>4</th>\n",
       "      <td>AskIndia</td>\n",
       "      <td>b7pvwt</td>\n",
       "      <td>somebody want kill full familycalm downgo sp o...</td>\n",
       "      <td>1</td>\n",
       "    </tr>\n",
       "  </tbody>\n",
       "</table>\n",
       "</div>"
      ],
      "text/plain": [
       "      flair      id                                               text  \\\n",
       "0  AskIndia  fwjdqr  4 days ago pending orders 100 million hydroxyc...   \n",
       "1  AskIndia  fizkkk  randians big time users dating apps like tinde...   \n",
       "2  AskIndia  f25vx0  r india thinks flat earthershavent found india...   \n",
       "3  AskIndia  dtvliq  people left 9 5 jobs pursue career music art f...   \n",
       "4  AskIndia  b7pvwt  somebody want kill full familycalm downgo sp o...   \n",
       "\n",
       "   n_flair  \n",
       "0        1  \n",
       "1        1  \n",
       "2        1  \n",
       "3        1  \n",
       "4        1  "
      ]
     },
     "execution_count": 316,
     "metadata": {},
     "output_type": "execute_result"
    }
   ],
   "source": [
    "le = LabelEncoder()\n",
    "le.fit(data['flair'])\n",
    "data['n_flair'] = le.transform(data['flair'])\n",
    "data.head()"
   ]
  },
  {
   "cell_type": "markdown",
   "metadata": {},
   "source": [
    "# Explore Data\n",
    "## Collect Key Metrics"
   ]
  },
  {
   "cell_type": "code",
   "execution_count": 317,
   "metadata": {
    "scrolled": true
   },
   "outputs": [
    {
     "name": "stdout",
     "output_type": "stream",
     "text": [
      "Number of samples: 1218\n",
      "--\n",
      "Number of classes: 13\n",
      "--\n",
      "Number of samples per class:\n",
      "    Politics: 100\n",
      "    Sports: 100\n",
      "    Food: 100\n",
      "    Scheduled: 100\n",
      "    Coronavirus: 100\n",
      "    Science/Technology: 100\n",
      "    AskIndia: 100\n",
      "    Non-Political: 100\n",
      "    Photography: 100\n",
      "    Business/Finance: 100\n",
      "    Policy/Economy: 100\n",
      "    AMA: 100\n",
      "    [R]eddiquette: 18\n",
      "--\n",
      "Median length of text:\n",
      "    Sports: 1108.0\n",
      "    AMA: 3171.5\n",
      "    Food: 992.5\n",
      "    Coronavirus: 365.5\n",
      "    Politics: 1134.0\n",
      "    Scheduled: 1188.5\n",
      "    Non-Political: 711.5\n",
      "    AskIndia: 1314.0\n",
      "    Policy/Economy: 2485.5\n",
      "    Science/Technology: 1376.0\n",
      "    Business/Finance: 2665.0\n",
      "    Photography: 524.5\n",
      "    [R]eddiquette: 1410.0\n"
     ]
    }
   ],
   "source": [
    "n_samples = len(data)\n",
    "n_classes = len(list(set(data['flair'])))\n",
    "n_samples_per_class = data['flair'].value_counts().to_dict()\n",
    "median_words_per_sample = [\n",
    "    np.median(\n",
    "        data[data['flair'] == f]['text'].str.len()\n",
    "    ) for f in list(set(data['flair']))]\n",
    "                                                                                                  \n",
    "print(f'Number of samples: {n_samples}')\n",
    "print('--')\n",
    "print(f'Number of classes: {n_classes}')\n",
    "print('--')\n",
    "print('Number of samples per class:')\n",
    "for key, value in n_samples_per_class.items():\n",
    "    print(f'    {key}: {value}')\n",
    "print('--')\n",
    "print(f'Median length of text:')\n",
    "for c, l in list(zip(list(\n",
    "    set(data['flair'])), median_words_per_sample)):\n",
    "    print(f'    {c}: {l}')"
   ]
  },
  {
   "cell_type": "markdown",
   "metadata": {},
   "source": [
    "## Plot Frequency Distribution of N-Grams"
   ]
  },
  {
   "cell_type": "code",
   "execution_count": 318,
   "metadata": {},
   "outputs": [
    {
     "data": {
      "image/png": "[encoded data removed]",
      "text/plain": [
       "<Figure size 1008x360 with 1 Axes>"
      ]
     },
     "metadata": {
      "needs_background": "light"
     },
     "output_type": "display_data"
    }
   ],
   "source": [
    "\n",
    "def plot_ngrams(sample_texts, ngram_range=(1, 2), n_ngrams=50):\n",
    "    \"\"\"Plots the frequency distribution of n-grams.\n",
    "    \n",
    "    Parameters\n",
    "    ----------\n",
    "    sample_texts : list\n",
    "        Sample texts\n",
    "    ngram_range : tuple\n",
    "        The range of n-gram values to consider.\n",
    "    n_ngrams : int\n",
    "        Number of n-grams to plot\n",
    "    \"\"\"\n",
    "    # Create arguments for vectorizing\n",
    "    kwargs = {\n",
    "        'ngram_range': (1, 1),\n",
    "        'dtype': 'int32',\n",
    "        'strip_accents': 'unicode',\n",
    "        'decode_error': 'replace',\n",
    "        'analyzer': 'word'\n",
    "    }\n",
    "    \n",
    "    cv = CountVectorizer(**kwargs)\n",
    "    \n",
    "    # Create vocabulary (dict, with keys as n-grams and values as\n",
    "    # indices). Converts every text to array length of vocabulary,\n",
    "    # the elements of which are the count of each n-gram\n",
    "    vectorized_texts = cv.fit_transform(sample_texts)\n",
    "    all_ngrams = list(cv.get_feature_names())\n",
    "    n_ngrams = min(n_ngrams, len(all_ngrams))\n",
    "    \n",
    "    # Add up counts per n-gram, one row per n-gram, hence axis=0\n",
    "    counts = vectorized_texts.sum(axis=0).tolist()[0]\n",
    "    \n",
    "    # Sort n-grams and counts by freq. and get top n n-grams\n",
    "    counts, all_ngrams = zip(*[(c, n) for c, n in sorted(\n",
    "    zip(counts, all_ngrams), reverse=True)])\n",
    "    ngrams = list(all_ngrams)[:n_ngrams]\n",
    "    cnts = list(counts)[:n_ngrams]\n",
    "    \n",
    "    idx = np.arange(n_ngrams)\n",
    "    plt.figure(figsize=(14, 5))\n",
    "    plt.bar(idx, cnts, width=0.8)\n",
    "    plt.xlabel('N-Grams')\n",
    "    plt.ylabel('Frequencies')\n",
    "    plt.title('Frequency Distribution of N-Grams')\n",
    "    plt.xticks(idx, ngrams, rotation=45)\n",
    "\n",
    "plot_ngrams(data['text'])"
   ]
  },
  {
   "cell_type": "markdown",
   "metadata": {},
   "source": [
    "## Plot the Number of Words Per Sample"
   ]
  },
  {
   "cell_type": "code",
   "execution_count": 319,
   "metadata": {
    "scrolled": true
   },
   "outputs": [
    {
     "data": {
      "image/png": "[encoded data removed]",
      "text/plain": [
       "<Figure size 576x360 with 1 Axes>"
      ]
     },
     "metadata": {
      "needs_background": "light"
     },
     "output_type": "display_data"
    }
   ],
   "source": [
    "def plot_words_per_sample(sample_texts):\n",
    "    \"\"\"Plots the sample length distribution\n",
    "    \n",
    "    Parameters\n",
    "    ----------\n",
    "    sample_texts : list\n",
    "        Sample texts\n",
    "    \n",
    "    \"\"\"\n",
    "    plt.figure(figsize=(8, 5))\n",
    "    plt.hist([len(s) for s in sample_texts], 50)\n",
    "    plt.xlabel('Sample Length')\n",
    "    plt.ylabel('Frequency')\n",
    "    plt.title('Sample Length Distribution')\n",
    "\n",
    "plot_words_per_sample(data['text'])"
   ]
  },
  {
   "cell_type": "markdown",
   "metadata": {},
   "source": [
    "# Text Preprocessing\n",
    "Tasks like lemmatization and stop word removal can be problematic for sentiment analysis and have been shown to be detrimental to accuracy, so we'll just be removing the punctuation."
   ]
  },
  {
   "cell_type": "code",
   "execution_count": 320,
   "metadata": {},
   "outputs": [
    {
     "data": {
      "text/plain": [
       "0       4 days ago pending orders 100 million hydroxyc...\n",
       "1       randians big time users dating apps like tinde...\n",
       "2       r india thinks flat earthershavent found india...\n",
       "3       people left 9 5 jobs pursue career music art f...\n",
       "4       somebody want kill full familycalm downgo sp o...\n",
       "                              ...                        \n",
       "1213    actual coronavirus cases least four times repo...\n",
       "1214    donate helping coronavirusstate government fun...\n",
       "1215    youth beaten female doctors attacked delhi pre...\n",
       "1216    coronavirus centre concerned polarisation reli...\n",
       "1217    coronavirus pooled testing planned zerocase di...\n",
       "Name: text, Length: 1218, dtype: object"
      ]
     },
     "execution_count": 320,
     "metadata": {},
     "output_type": "execute_result"
    }
   ],
   "source": [
    "data['text'] = data['text'].str.replace('[^\\w\\s]', '')\n",
    "data['text']"
   ]
  },
  {
   "cell_type": "markdown",
   "metadata": {},
   "source": [
    "# Choose the Model\n",
    "> How do we present the text data to an algorithm that expects numeric input?\n",
    "\n",
    "In order for us to get an idea of the complexity of the model we'll be using, we should first calculate the ratio of the number of samples to the number of words per sample."
   ]
  },
  {
   "cell_type": "code",
   "execution_count": 321,
   "metadata": {
    "scrolled": true
   },
   "outputs": [
    {
     "data": {
      "text/plain": [
       "19.130641025641026"
      ]
     },
     "execution_count": 321,
     "metadata": {},
     "output_type": "execute_result"
    }
   ],
   "source": [
    "# Divide two lists\n",
    "ratio = [i / j for i, j in zip(median_words_per_sample, list(n_samples_per_class.values()))]\n",
    "avg_ratio = sum(ratio) / len(ratio)\n",
    "avg_ratio"
   ]
  },
  {
   "cell_type": "markdown",
   "metadata": {},
   "source": [
    "Thankfully, this is a very small ratio compared to what we would need to build complex CNNs. We'll need to tokenize the text as sequences and classify them with a multi-layer perceptron. \n",
    "# Train/Test Split\n",
    "It is good practice to shuffle our data before feeding it into a model so it won't be affected by data order. `train_test_split` does this by default, with `shuffle` set to `True`."
   ]
  },
  {
   "cell_type": "code",
   "execution_count": 322,
   "metadata": {},
   "outputs": [
    {
     "name": "stdout",
     "output_type": "stream",
     "text": [
      "432     redditors kolkatananhttpswwwredditcomrindiacom...\n",
      "277     security personnel bjp mp chairman national co...\n",
      "721     questions indian billionaires private indian c...\n",
      "1062    optilasik procedure bangalore right eye 4 sph ...\n",
      "678     initial thoughts reactions union budget 2019th...\n",
      "                              ...                        \n",
      "1044    unverified ama worked amazon customer service ...\n",
      "1095    ama request married porn sex masturbation addi...\n",
      "1130    coronavirus india cant depend un old world ord...\n",
      "860     delhi cabinet approves setting sports universi...\n",
      "1126    india boost drug ingredient output pare china ...\n",
      "Name: text, Length: 974, dtype: object 432     10\n",
      "277      9\n",
      "721      7\n",
      "1062     0\n",
      "678      2\n",
      "        ..\n",
      "1044     0\n",
      "1095     0\n",
      "1130     3\n",
      "860     11\n",
      "1126     3\n",
      "Name: n_flair, Length: 974, dtype: int64\n"
     ]
    }
   ],
   "source": [
    "X_train, X_test, y_train, y_test = train_test_split(\n",
    "    data['text'], data['n_flair'], test_size=0.2, random_state=42)\n",
    "\n",
    "print(X_train, y_train)"
   ]
  },
  {
   "cell_type": "markdown",
   "metadata": {},
   "source": [
    "# Prepare the Data\n",
    "First, get the indices to make our predictions later. Then, we'll need to tokenize our dataset to build its vocabulary. We'll tokenize it into unigrams and bigrams, and then generate a TF-IDF vector of the length of the vocabulary."
   ]
  },
  {
   "cell_type": "code",
   "execution_count": 323,
   "metadata": {},
   "outputs": [
    {
     "name": "stdout",
     "output_type": "stream",
     "text": [
      "[432, 277, 721, 1062, 678, 599, 306, 289, 812, 596]\n",
      "[541, 259, 43, 1008, 584, 310, 657, 1211, 210, 155]\n"
     ]
    }
   ],
   "source": [
    "train_idxs = list(X_train.index)\n",
    "test_idxs = list(X_test.index)\n",
    "print(train_idxs[:10])\n",
    "print(test_idxs[:10])"
   ]
  },
  {
   "cell_type": "code",
   "execution_count": 324,
   "metadata": {},
   "outputs": [
    {
     "name": "stderr",
     "output_type": "stream",
     "text": [
      "/Library/Frameworks/Python.framework/Versions/3.8/lib/python3.8/site-packages/sklearn/feature_extraction/text.py:1796: UserWarning: Only (<class 'numpy.float64'>, <class 'numpy.float32'>, <class 'numpy.float16'>) 'dtype' should be used. int32 'dtype' will be converted to np.float64.\n",
      "  warnings.warn(\"Only {} 'dtype' should be used. {} 'dtype' will \"\n"
     ]
    },
    {
     "name": "stdout",
     "output_type": "stream",
     "text": [
      "(974, 52609) (244, 52609)\n"
     ]
    }
   ],
   "source": [
    "kwargs = {\n",
    "    'ngram_range': (1, 2),\n",
    "    'dtype': 'int32',\n",
    "    'strip_accents': 'unicode',\n",
    "    'decode_error': 'replace',\n",
    "    'analyzer': 'word',\n",
    "    'min_df': 2 # document/corpus freq. below which a token will be discarded\n",
    "}\n",
    "\n",
    "vec = TfidfVectorizer(**kwargs)\n",
    "\n",
    "train_tfidf = vec.fit_transform(X_train)\n",
    "test_tfidf = vec.transform(X_test)\n",
    "\n",
    "print(train_tfidf.shape, test_tfidf.shape)"
   ]
  },
  {
   "cell_type": "markdown",
   "metadata": {},
   "source": [
    "We have 1,218 samples, and ~50-60,000 total features extracted by the TF-IDF vectorizer.\n",
    "## Feature Selection\n",
    "Use the ANOVA f-value to pick the top 20,000 features from the vector of tokens."
   ]
  },
  {
   "cell_type": "code",
   "execution_count": 325,
   "metadata": {},
   "outputs": [
    {
     "name": "stdout",
     "output_type": "stream",
     "text": [
      "(974, 500) (244, 500)\n"
     ]
    }
   ],
   "source": [
    "TOP_K = 500\n",
    "\n",
    "select = SelectKBest(f_classif, k=min(TOP_K, test_tfidf.shape[1]))\n",
    "\n",
    "select.fit(train_tfidf, y_train)\n",
    "X_train = select.transform(train_tfidf).toarray().astype('float32')\n",
    "X_test = select.transform(test_tfidf).toarray().astype('float32')\n",
    "\n",
    "print(X_train.shape, X_test.shape)"
   ]
  },
  {
   "cell_type": "markdown",
   "metadata": {},
   "source": [
    "## Final Model Data"
   ]
  },
  {
   "cell_type": "code",
   "execution_count": 326,
   "metadata": {},
   "outputs": [
    {
     "data": {
      "text/plain": [
       "((array([[0., 0., 0., ..., 0., 0., 0.],\n",
       "         [0., 0., 0., ..., 0., 0., 0.],\n",
       "         [0., 0., 0., ..., 0., 0., 0.],\n",
       "         ...,\n",
       "         [0., 0., 0., ..., 0., 0., 0.],\n",
       "         [0., 0., 0., ..., 0., 0., 0.],\n",
       "         [0., 0., 0., ..., 0., 0., 0.]], dtype=float32),\n",
       "  432     10\n",
       "  277      9\n",
       "  721      7\n",
       "  1062     0\n",
       "  678      2\n",
       "          ..\n",
       "  1044     0\n",
       "  1095     0\n",
       "  1130     3\n",
       "  860     11\n",
       "  1126     3\n",
       "  Name: n_flair, Length: 974, dtype: int64),\n",
       " (array([[0.        , 0.        , 0.        , ..., 0.        , 0.        ,\n",
       "          0.        ],\n",
       "         [0.        , 0.        , 0.        , ..., 0.        , 0.        ,\n",
       "          0.        ],\n",
       "         [0.        , 0.        , 0.        , ..., 0.        , 0.        ,\n",
       "          0.02655824],\n",
       "         ...,\n",
       "         [0.        , 0.        , 0.        , ..., 0.        , 0.        ,\n",
       "          0.03206171],\n",
       "         [0.        , 0.        , 0.        , ..., 0.        , 0.        ,\n",
       "          0.        ],\n",
       "         [0.        , 0.        , 0.        , ..., 0.        , 0.        ,\n",
       "          0.        ]], dtype=float32),\n",
       "  541      8\n",
       "  259      9\n",
       "  43       1\n",
       "  1008     4\n",
       "  584      8\n",
       "          ..\n",
       "  420     10\n",
       "  243      9\n",
       "  59       1\n",
       "  1073     0\n",
       "  63       1\n",
       "  Name: n_flair, Length: 244, dtype: int64))"
      ]
     },
     "execution_count": 326,
     "metadata": {},
     "output_type": "execute_result"
    }
   ],
   "source": [
    "model_data = (X_train, y_train), (X_test, y_test)\n",
    "model_data"
   ]
  },
  {
   "cell_type": "markdown",
   "metadata": {},
   "source": [
    "# Building and Training the Model\n",
    "We are building a model that processes individual tokens (i.e., not worrying about word order). Multi-layer perceptrons typically perform best with n-gram models, so that's what we'll be building using `keras`."
   ]
  },
  {
   "cell_type": "code",
   "execution_count": 327,
   "metadata": {},
   "outputs": [],
   "source": [
    "def build_model(n_layers, units, dropout_rate, reg_factor, input_shape, n_classes):\n",
    "    \"\"\"Builds n-gram model\n",
    "    \n",
    "    Parameters\n",
    "    ----------\n",
    "    n_layers : int\n",
    "        Number of Dense layers in model\n",
    "    units : int\n",
    "        Output dimension of layers\n",
    "    dropout_rate : float\n",
    "        Percentage of input to drop at Dropout layers\n",
    "    input_shape : tuple\n",
    "        Shape of input to the model\n",
    "    n_classes : int\n",
    "        Number of input classes\n",
    "        \n",
    "    Returns\n",
    "    -------\n",
    "    Fully-connected model\n",
    "    \"\"\"\n",
    "    model = models.Sequential()\n",
    "    model.add(Dropout(rate=dropout_rate, input_shape=input_shape))\n",
    "    \n",
    "    for _ in range(n_layers - 1):\n",
    "        model.add(Dense(units=units, activation='relu', kernel_regularizer=l2(reg_factor)))\n",
    "        model.add(Dropout(rate=dropout_rate))\n",
    "        \n",
    "    model.add(Dense(n_classes, 'softmax'))\n",
    "    return model\n",
    "\n",
    "def train_model(data, \n",
    "                lr=0.001, \n",
    "                epochs=1000, \n",
    "                batch_size=32, \n",
    "                n_layers=2, \n",
    "                units=64, \n",
    "                dropout_rate=0.3,\n",
    "                reg_factor=1e-5,\n",
    "                print_history=True):\n",
    "    \"\"\"Trains n-gram model\n",
    "    \n",
    "    Parameters\n",
    "    ----------\n",
    "    data : tuple\n",
    "        Tuple containing tuples of training and testing text and labels\n",
    "    learning_rate : float\n",
    "        Learning rate for optimizer\n",
    "    epochs : int\n",
    "        Number of epochs\n",
    "    batch_size : int\n",
    "        # of samples per batch\n",
    "    layers : int\n",
    "        Number of Dense layers in model\n",
    "    units : int\n",
    "        Output dimension of Dense layers\n",
    "    dropout_rate : float\n",
    "        Percentage of input to drop at Dropout layers\n",
    "    \"\"\"\n",
    "    (text_train, labels_train), (text_test, labels_test) = data\n",
    "    n_classes = 13\n",
    "    \n",
    "    # Create model instance\n",
    "    model = build_model(\n",
    "        n_layers=n_layers,\n",
    "        units=units,\n",
    "        dropout_rate=dropout_rate,\n",
    "        reg_factor=reg_factor,\n",
    "        input_shape=text_train.shape[1:],\n",
    "        n_classes=n_classes\n",
    "    )\n",
    "    \n",
    "    loss = 'sparse_categorical_crossentropy'\n",
    "    optimizer = tf.keras.optimizers.Adam(lr=lr)\n",
    "    model.compile(optimizer=optimizer, loss=loss, metrics=['acc'])\n",
    "    \n",
    "    # Early stopping\n",
    "    callbacks = [tf.keras.callbacks.EarlyStopping(\n",
    "        monitor='val_loss', patience=2)]\n",
    "    \n",
    "    if print_history == True:\n",
    "        VERBOSE = 2\n",
    "    else:\n",
    "        VERBOSE = 0\n",
    "    \n",
    "    # Train and validate\n",
    "    history = model.fit(\n",
    "        text_train,\n",
    "        labels_train,\n",
    "        epochs=epochs,\n",
    "        callbacks=callbacks,\n",
    "        validation_data=(text_test, labels_test),\n",
    "        verbose=VERBOSE,\n",
    "        batch_size=batch_size\n",
    "    )\n",
    "    \n",
    "    history = history.history    \n",
    "    print('Validation accuracy: {acc}, loss: {loss}'.format(\n",
    "            acc=history['val_acc'][-1], loss=history['val_loss'][-1]))\n",
    "    \n",
    "    # Plot history: Loss\n",
    "    plt.plot(history['val_loss'], label='val_loss')\n",
    "    plt.plot(history['loss'], label='loss')\n",
    "    plt.title('Loss and Validation Loss History')\n",
    "    plt.ylabel('Loss Value')\n",
    "    plt.xlabel('No. Epoch')\n",
    "    plt.legend()\n",
    "    plt.show()\n",
    "\n",
    "    # Plot history: Accuracy\n",
    "    plt.plot(history['val_acc'], label='val_acc')\n",
    "    plt.plot(history['acc'], label='acc')\n",
    "    plt.title('Accuracy and Validation Accuracy History')\n",
    "    plt.ylabel('Accuracy Value (%)')\n",
    "    plt.xlabel('No. Epoch')\n",
    "    plt.legend()\n",
    "    plt.show()\n",
    "\n",
    "    return model"
   ]
  },
  {
   "cell_type": "code",
   "execution_count": 328,
   "metadata": {},
   "outputs": [
    {
     "name": "stdout",
     "output_type": "stream",
     "text": [
      "Epoch 1/1000\n",
      "31/31 - 0s - loss: 2.5535 - acc: 0.1674 - val_loss: 2.5306 - val_acc: 0.3893\n",
      "Epoch 2/1000\n",
      "31/31 - 0s - loss: 2.5110 - acc: 0.3265 - val_loss: 2.4737 - val_acc: 0.4877\n",
      "Epoch 3/1000\n",
      "31/31 - 0s - loss: 2.4537 - acc: 0.4148 - val_loss: 2.4032 - val_acc: 0.5369\n",
      "Epoch 4/1000\n",
      "31/31 - 0s - loss: 2.3863 - acc: 0.4949 - val_loss: 2.3298 - val_acc: 0.6270\n",
      "Epoch 5/1000\n",
      "31/31 - 0s - loss: 2.3177 - acc: 0.5226 - val_loss: 2.2604 - val_acc: 0.6311\n",
      "Epoch 6/1000\n",
      "31/31 - 0s - loss: 2.2407 - acc: 0.5688 - val_loss: 2.1879 - val_acc: 0.6926\n",
      "Epoch 7/1000\n",
      "31/31 - 0s - loss: 2.1728 - acc: 0.5801 - val_loss: 2.1139 - val_acc: 0.6844\n",
      "Epoch 8/1000\n",
      "31/31 - 0s - loss: 2.0878 - acc: 0.5893 - val_loss: 2.0374 - val_acc: 0.7008\n",
      "Epoch 9/1000\n",
      "31/31 - 0s - loss: 2.0217 - acc: 0.6129 - val_loss: 1.9597 - val_acc: 0.7049\n",
      "Epoch 10/1000\n",
      "31/31 - 0s - loss: 1.9375 - acc: 0.6232 - val_loss: 1.8851 - val_acc: 0.7172\n",
      "Epoch 11/1000\n",
      "31/31 - 0s - loss: 1.8739 - acc: 0.6027 - val_loss: 1.8125 - val_acc: 0.7418\n",
      "Epoch 12/1000\n",
      "31/31 - 0s - loss: 1.8101 - acc: 0.6263 - val_loss: 1.7457 - val_acc: 0.7336\n",
      "Epoch 13/1000\n",
      "31/31 - 0s - loss: 1.7417 - acc: 0.6396 - val_loss: 1.6831 - val_acc: 0.7295\n",
      "Epoch 14/1000\n",
      "31/31 - 0s - loss: 1.7004 - acc: 0.6242 - val_loss: 1.6218 - val_acc: 0.7582\n",
      "Epoch 15/1000\n",
      "31/31 - 0s - loss: 1.6249 - acc: 0.6468 - val_loss: 1.5656 - val_acc: 0.7377\n",
      "Epoch 16/1000\n",
      "31/31 - 0s - loss: 1.5577 - acc: 0.6489 - val_loss: 1.5116 - val_acc: 0.7500\n",
      "Epoch 17/1000\n",
      "31/31 - 0s - loss: 1.5304 - acc: 0.6571 - val_loss: 1.4603 - val_acc: 0.7541\n",
      "Epoch 18/1000\n",
      "31/31 - 0s - loss: 1.5017 - acc: 0.6509 - val_loss: 1.4204 - val_acc: 0.7541\n",
      "Epoch 19/1000\n",
      "31/31 - 0s - loss: 1.4605 - acc: 0.6694 - val_loss: 1.3800 - val_acc: 0.7623\n",
      "Epoch 20/1000\n",
      "31/31 - 0s - loss: 1.3642 - acc: 0.6828 - val_loss: 1.3432 - val_acc: 0.7582\n",
      "Epoch 21/1000\n",
      "31/31 - 0s - loss: 1.3825 - acc: 0.6561 - val_loss: 1.3093 - val_acc: 0.7582\n",
      "Epoch 22/1000\n",
      "31/31 - 0s - loss: 1.3314 - acc: 0.6715 - val_loss: 1.2744 - val_acc: 0.7623\n",
      "Epoch 23/1000\n",
      "31/31 - 0s - loss: 1.3100 - acc: 0.6838 - val_loss: 1.2485 - val_acc: 0.7746\n",
      "Epoch 24/1000\n",
      "31/31 - 0s - loss: 1.2827 - acc: 0.6940 - val_loss: 1.2230 - val_acc: 0.7787\n",
      "Epoch 25/1000\n",
      "31/31 - 0s - loss: 1.2852 - acc: 0.6756 - val_loss: 1.1989 - val_acc: 0.7787\n",
      "Epoch 26/1000\n",
      "31/31 - 0s - loss: 1.2061 - acc: 0.7064 - val_loss: 1.1752 - val_acc: 0.7705\n",
      "Epoch 27/1000\n",
      "31/31 - 0s - loss: 1.2229 - acc: 0.6910 - val_loss: 1.1554 - val_acc: 0.7746\n",
      "Epoch 28/1000\n",
      "31/31 - 0s - loss: 1.1856 - acc: 0.6858 - val_loss: 1.1302 - val_acc: 0.7828\n",
      "Epoch 29/1000\n",
      "31/31 - 0s - loss: 1.1915 - acc: 0.6899 - val_loss: 1.1112 - val_acc: 0.7910\n",
      "Epoch 30/1000\n",
      "31/31 - 0s - loss: 1.1640 - acc: 0.6982 - val_loss: 1.0941 - val_acc: 0.7910\n",
      "Epoch 31/1000\n",
      "31/31 - 0s - loss: 1.1536 - acc: 0.7146 - val_loss: 1.0790 - val_acc: 0.7992\n",
      "Epoch 32/1000\n",
      "31/31 - 0s - loss: 1.1763 - acc: 0.6940 - val_loss: 1.0650 - val_acc: 0.7910\n",
      "Epoch 33/1000\n",
      "31/31 - 0s - loss: 1.0956 - acc: 0.7136 - val_loss: 1.0510 - val_acc: 0.7992\n",
      "Epoch 34/1000\n",
      "31/31 - 0s - loss: 1.0794 - acc: 0.7372 - val_loss: 1.0369 - val_acc: 0.7951\n",
      "Epoch 35/1000\n",
      "31/31 - 0s - loss: 1.0955 - acc: 0.7136 - val_loss: 1.0243 - val_acc: 0.7951\n",
      "Epoch 36/1000\n",
      "31/31 - 0s - loss: 1.0564 - acc: 0.7197 - val_loss: 1.0103 - val_acc: 0.7992\n",
      "Epoch 37/1000\n",
      "31/31 - 0s - loss: 1.0605 - acc: 0.7053 - val_loss: 0.9988 - val_acc: 0.7951\n",
      "Epoch 38/1000\n",
      "31/31 - 0s - loss: 1.0170 - acc: 0.7361 - val_loss: 0.9884 - val_acc: 0.7992\n",
      "Epoch 39/1000\n",
      "31/31 - 0s - loss: 1.0308 - acc: 0.7269 - val_loss: 0.9748 - val_acc: 0.8033\n",
      "Epoch 40/1000\n",
      "31/31 - 0s - loss: 1.0322 - acc: 0.7300 - val_loss: 0.9673 - val_acc: 0.7992\n",
      "Epoch 41/1000\n",
      "31/31 - 0s - loss: 0.9801 - acc: 0.7392 - val_loss: 0.9576 - val_acc: 0.8033\n",
      "Epoch 42/1000\n",
      "31/31 - 0s - loss: 1.0366 - acc: 0.7064 - val_loss: 0.9481 - val_acc: 0.8156\n",
      "Epoch 43/1000\n",
      "31/31 - 0s - loss: 0.9926 - acc: 0.7290 - val_loss: 0.9403 - val_acc: 0.8115\n",
      "Epoch 44/1000\n",
      "31/31 - 0s - loss: 1.0259 - acc: 0.7094 - val_loss: 0.9324 - val_acc: 0.8033\n",
      "Epoch 45/1000\n",
      "31/31 - 0s - loss: 0.9569 - acc: 0.7402 - val_loss: 0.9282 - val_acc: 0.8033\n",
      "Epoch 46/1000\n",
      "31/31 - 0s - loss: 0.9570 - acc: 0.7444 - val_loss: 0.9204 - val_acc: 0.8033\n",
      "Epoch 47/1000\n",
      "31/31 - 0s - loss: 0.9507 - acc: 0.7320 - val_loss: 0.9101 - val_acc: 0.8115\n",
      "Epoch 48/1000\n",
      "31/31 - 0s - loss: 0.9745 - acc: 0.7351 - val_loss: 0.9027 - val_acc: 0.8115\n",
      "Epoch 49/1000\n",
      "31/31 - 0s - loss: 0.9457 - acc: 0.7402 - val_loss: 0.8966 - val_acc: 0.8074\n",
      "Epoch 50/1000\n",
      "31/31 - 0s - loss: 0.9519 - acc: 0.7413 - val_loss: 0.8940 - val_acc: 0.8074\n",
      "Epoch 51/1000\n",
      "31/31 - 0s - loss: 0.9726 - acc: 0.7197 - val_loss: 0.8891 - val_acc: 0.8156\n",
      "Epoch 52/1000\n",
      "31/31 - 0s - loss: 0.9291 - acc: 0.7320 - val_loss: 0.8826 - val_acc: 0.8115\n",
      "Epoch 53/1000\n",
      "31/31 - 0s - loss: 0.9096 - acc: 0.7392 - val_loss: 0.8759 - val_acc: 0.8156\n",
      "Epoch 54/1000\n",
      "31/31 - 0s - loss: 0.9333 - acc: 0.7361 - val_loss: 0.8717 - val_acc: 0.7992\n",
      "Epoch 55/1000\n",
      "31/31 - 0s - loss: 0.9212 - acc: 0.7361 - val_loss: 0.8646 - val_acc: 0.8156\n",
      "Epoch 56/1000\n",
      "31/31 - 0s - loss: 0.8749 - acc: 0.7762 - val_loss: 0.8621 - val_acc: 0.8115\n",
      "Epoch 57/1000\n",
      "31/31 - 0s - loss: 0.8682 - acc: 0.7495 - val_loss: 0.8570 - val_acc: 0.8074\n",
      "Epoch 58/1000\n",
      "31/31 - 0s - loss: 0.8518 - acc: 0.7536 - val_loss: 0.8532 - val_acc: 0.8197\n",
      "Epoch 59/1000\n",
      "31/31 - 0s - loss: 0.8784 - acc: 0.7526 - val_loss: 0.8483 - val_acc: 0.8156\n",
      "Epoch 60/1000\n",
      "31/31 - 0s - loss: 0.8789 - acc: 0.7608 - val_loss: 0.8446 - val_acc: 0.8197\n",
      "Epoch 61/1000\n",
      "31/31 - 0s - loss: 0.8500 - acc: 0.7587 - val_loss: 0.8424 - val_acc: 0.8197\n",
      "Epoch 62/1000\n",
      "31/31 - 0s - loss: 0.8871 - acc: 0.7382 - val_loss: 0.8365 - val_acc: 0.8197\n",
      "Epoch 63/1000\n",
      "31/31 - 0s - loss: 0.8845 - acc: 0.7515 - val_loss: 0.8334 - val_acc: 0.8197\n",
      "Epoch 64/1000\n",
      "31/31 - 0s - loss: 0.8895 - acc: 0.7608 - val_loss: 0.8310 - val_acc: 0.8115\n",
      "Epoch 65/1000\n",
      "31/31 - 0s - loss: 0.8608 - acc: 0.7556 - val_loss: 0.8295 - val_acc: 0.8115\n",
      "Epoch 66/1000\n",
      "31/31 - 0s - loss: 0.8478 - acc: 0.7700 - val_loss: 0.8255 - val_acc: 0.8033\n",
      "Epoch 67/1000\n",
      "31/31 - 0s - loss: 0.8598 - acc: 0.7495 - val_loss: 0.8239 - val_acc: 0.8197\n",
      "Epoch 68/1000\n",
      "31/31 - 0s - loss: 0.8380 - acc: 0.7710 - val_loss: 0.8194 - val_acc: 0.8156\n",
      "Epoch 69/1000\n",
      "31/31 - 0s - loss: 0.8234 - acc: 0.7587 - val_loss: 0.8172 - val_acc: 0.8197\n",
      "Epoch 70/1000\n",
      "31/31 - 0s - loss: 0.8160 - acc: 0.7649 - val_loss: 0.8145 - val_acc: 0.8197\n",
      "Epoch 71/1000\n",
      "31/31 - 0s - loss: 0.8318 - acc: 0.7669 - val_loss: 0.8115 - val_acc: 0.8238\n",
      "Epoch 72/1000\n",
      "31/31 - 0s - loss: 0.7957 - acc: 0.7752 - val_loss: 0.8096 - val_acc: 0.8279\n",
      "Epoch 73/1000\n",
      "31/31 - 0s - loss: 0.8242 - acc: 0.7639 - val_loss: 0.8072 - val_acc: 0.8238\n",
      "Epoch 74/1000\n",
      "31/31 - 0s - loss: 0.8746 - acc: 0.7567 - val_loss: 0.8077 - val_acc: 0.8197\n",
      "Epoch 75/1000\n",
      "31/31 - 0s - loss: 0.8287 - acc: 0.7598 - val_loss: 0.8053 - val_acc: 0.8238\n",
      "Epoch 76/1000\n",
      "31/31 - 0s - loss: 0.8535 - acc: 0.7361 - val_loss: 0.8043 - val_acc: 0.8238\n",
      "Epoch 77/1000\n",
      "31/31 - 0s - loss: 0.8526 - acc: 0.7423 - val_loss: 0.8044 - val_acc: 0.8156\n",
      "Epoch 78/1000\n",
      "31/31 - 0s - loss: 0.8349 - acc: 0.7536 - val_loss: 0.8048 - val_acc: 0.8238\n",
      "Validation accuracy: 0.8237704634666443, loss: 0.8047868013381958\n"
     ]
    },
    {
     "data": {
      "image/png": "[encoded data removed]",
      "text/plain": [
       "<Figure size 432x288 with 1 Axes>"
      ]
     },
     "metadata": {
      "needs_background": "light"
     },
     "output_type": "display_data"
    },
    {
     "data": {
      "image/png": "[encoded data removed]",
      "text/plain": [
       "<Figure size 432x288 with 1 Axes>"
      ]
     },
     "metadata": {
      "needs_background": "light"
     },
     "output_type": "display_data"
    },
    {
     "data": {
      "text/plain": [
       "<tensorflow.python.keras.engine.sequential.Sequential at 0x15d16d940>"
      ]
     },
     "execution_count": 328,
     "metadata": {},
     "output_type": "execute_result"
    }
   ],
   "source": [
    "train_model(model_data)"
   ]
  },
  {
   "cell_type": "markdown",
   "metadata": {},
   "source": [
    "# Hyperparameter Tuning\n",
    "## K-Fold Cross-Validation\n",
    "It seems like we're actually seeing better accuracy scores when we run k-fold CV than when we evaluate the model just once."
   ]
  },
  {
   "cell_type": "code",
   "execution_count": 329,
   "metadata": {},
   "outputs": [],
   "source": [
    "def cross_val(n_folds=4, n_layers=2, units=64, dropout_rate=0.2, batch_size=32, reg_factor=1e-5, epochs=45):\n",
    "    \"\"\"Uses k-fold cross-validation to evaluate a model\n",
    "    \n",
    "    Parameters\n",
    "    ----------\n",
    "    n_folds : int\n",
    "        Number of folds, must be at least 2\n",
    "    n_layers : int\n",
    "        Number of Dense layers in model\n",
    "    units : int\n",
    "        Output dimension of layers\n",
    "    dropout_rate : float\n",
    "        Percentage of input to drop at Dropout layers\n",
    "    batch_size : int\n",
    "        Batch size on which to fit\n",
    "    epochs : int\n",
    "        Number of iterations for the model\n",
    "    \"\"\"\n",
    "    kf = KFold(n_splits=n_folds)\n",
    "\n",
    "    acc_per_fold = []\n",
    "    loss_per_fold = []\n",
    "\n",
    "    inputs = np.concatenate((X_train, X_test), axis=0)\n",
    "    targets = np.concatenate((y_train, y_test), axis=0)\n",
    "\n",
    "    fold_n = 1\n",
    "\n",
    "    loss = 'sparse_categorical_crossentropy'\n",
    "    lr = 0.001\n",
    "    optimizer = tf.keras.optimizers.Adam(lr=lr)\n",
    "\n",
    "    # Early stopping\n",
    "    callbacks = [\n",
    "        tf.keras.callbacks.EarlyStopping(monitor='loss', patience=2)\n",
    "    ]\n",
    "\n",
    "    for train_index, test_index in kf.split(inputs):\n",
    "        model = build_model(\n",
    "            n_layers=n_layers,\n",
    "            units=units,\n",
    "            dropout_rate=dropout_rate,\n",
    "            input_shape=X_train.shape[1:],\n",
    "            reg_factor=reg_factor,\n",
    "            n_classes=len(list(set(data['flair'])))\n",
    "        )\n",
    "\n",
    "        model.compile(\n",
    "            loss=loss,\n",
    "            optimizer=optimizer,\n",
    "            metrics=['accuracy'])\n",
    "\n",
    "        print('------------------------------------------------------------------------')\n",
    "        print(f'Training for fold {fold_n}...')\n",
    "\n",
    "        history = model.fit(\n",
    "            inputs[train_index],\n",
    "            targets[train_index],\n",
    "            epochs=epochs,\n",
    "            callbacks=callbacks,\n",
    "            verbose=0,\n",
    "            batch_size=batch_size\n",
    "        )\n",
    "\n",
    "        # Generate generalization metrics\n",
    "        scores = model.evaluate(\n",
    "            inputs[test_index], targets[test_index], verbose=0)\n",
    "        print(\n",
    "            f'Score for fold {fold_n}: {model.metrics_names[0]} of {scores[0]}; {model.metrics_names[1]} of {scores[1]*100}%')\n",
    "        acc_per_fold.append(scores[1] * 100)\n",
    "        loss_per_fold.append(scores[0])\n",
    "\n",
    "        fold_n += 1\n",
    "\n",
    "    print('------------------------------------------------------------------------')\n",
    "    print('Score per fold')\n",
    "    for i in range(0, len(acc_per_fold)):\n",
    "      print('------------------------------------------------------------------------')\n",
    "      print(f'> Fold {i+1} - Loss: {loss_per_fold[i]} - Accuracy: {acc_per_fold[i]}%')\n",
    "    print('------------------------------------------------------------------------')\n",
    "    print('Average scores for all folds:')\n",
    "    print(f'> Accuracy: {np.mean(acc_per_fold)} (+- {np.std(acc_per_fold)})')\n",
    "    print(f'> Loss: {np.mean(loss_per_fold)}')\n",
    "    print('------------------------------------------------------------------------')"
   ]
  },
  {
   "cell_type": "markdown",
   "metadata": {},
   "source": [
    "After playing around with hyperparameters, these default values for `cross_val()` seem to provide the highest accuracy."
   ]
  },
  {
   "cell_type": "code",
   "execution_count": 330,
   "metadata": {},
   "outputs": [
    {
     "name": "stdout",
     "output_type": "stream",
     "text": [
      "------------------------------------------------------------------------\n",
      "Training for fold 1...\n",
      "Score for fold 1: loss of 1.0572391748428345; accuracy of 74.42622780799866%\n",
      "------------------------------------------------------------------------\n",
      "Training for fold 2...\n",
      "Score for fold 2: loss of 0.8447427749633789; accuracy of 81.31147623062134%\n",
      "------------------------------------------------------------------------\n",
      "Training for fold 3...\n",
      "Score for fold 3: loss of 0.8269950747489929; accuracy of 79.93420958518982%\n",
      "------------------------------------------------------------------------\n",
      "Training for fold 4...\n",
      "Score for fold 4: loss of 0.855095624923706; accuracy of 81.25%\n",
      "------------------------------------------------------------------------\n",
      "Score per fold\n",
      "------------------------------------------------------------------------\n",
      "> Fold 1 - Loss: 1.0572391748428345 - Accuracy: 74.42622780799866%\n",
      "------------------------------------------------------------------------\n",
      "> Fold 2 - Loss: 0.8447427749633789 - Accuracy: 81.31147623062134%\n",
      "------------------------------------------------------------------------\n",
      "> Fold 3 - Loss: 0.8269950747489929 - Accuracy: 79.93420958518982%\n",
      "------------------------------------------------------------------------\n",
      "> Fold 4 - Loss: 0.855095624923706 - Accuracy: 81.25%\n",
      "------------------------------------------------------------------------\n",
      "Average scores for all folds:\n",
      "> Accuracy: 79.23047840595245 (+- 2.827767705968402)\n",
      "> Loss: 0.8960181623697281\n",
      "------------------------------------------------------------------------\n"
     ]
    }
   ],
   "source": [
    "cross_val()"
   ]
  },
  {
   "cell_type": "markdown",
   "metadata": {},
   "source": [
    "# Generate DataFrame of Predictions"
   ]
  },
  {
   "cell_type": "code",
   "execution_count": 331,
   "metadata": {},
   "outputs": [
    {
     "name": "stdout",
     "output_type": "stream",
     "text": [
      "Validation accuracy: 0.8155737519264221, loss: 0.8188850283622742\n"
     ]
    },
    {
     "data": {
      "image/png": "[encoded data removed]",
      "text/plain": [
       "<Figure size 432x288 with 1 Axes>"
      ]
     },
     "metadata": {
      "needs_background": "light"
     },
     "output_type": "display_data"
    },
    {
     "data": {
      "image/png": "[encoded data removed]",
      "text/plain": [
       "<Figure size 432x288 with 1 Axes>"
      ]
     },
     "metadata": {
      "needs_background": "light"
     },
     "output_type": "display_data"
    }
   ],
   "source": [
    "model = train_model(model_data, print_history=False)\n",
    "prediction = model.predict(X_test)"
   ]
  },
  {
   "cell_type": "code",
   "execution_count": 332,
   "metadata": {},
   "outputs": [
    {
     "data": {
      "text/html": [
       "<div>\n",
       "<style scoped>\n",
       "    .dataframe tbody tr th:only-of-type {\n",
       "        vertical-align: middle;\n",
       "    }\n",
       "\n",
       "    .dataframe tbody tr th {\n",
       "        vertical-align: top;\n",
       "    }\n",
       "\n",
       "    .dataframe thead th {\n",
       "        text-align: right;\n",
       "    }\n",
       "</style>\n",
       "<table border=\"1\" class=\"dataframe\">\n",
       "  <thead>\n",
       "    <tr style=\"text-align: right;\">\n",
       "      <th></th>\n",
       "      <th>ids</th>\n",
       "      <th>flair</th>\n",
       "    </tr>\n",
       "  </thead>\n",
       "  <tbody>\n",
       "    <tr>\n",
       "      <th>0</th>\n",
       "      <td>fl3w6p</td>\n",
       "      <td>Politics</td>\n",
       "    </tr>\n",
       "    <tr>\n",
       "      <th>1</th>\n",
       "      <td>fnyudn</td>\n",
       "      <td>Scheduled</td>\n",
       "    </tr>\n",
       "    <tr>\n",
       "      <th>2</th>\n",
       "      <td>3wcid0</td>\n",
       "      <td>Science/Technology</td>\n",
       "    </tr>\n",
       "    <tr>\n",
       "      <th>3</th>\n",
       "      <td>fw0jft</td>\n",
       "      <td>Food</td>\n",
       "    </tr>\n",
       "    <tr>\n",
       "      <th>4</th>\n",
       "      <td>fdojuz</td>\n",
       "      <td>Politics</td>\n",
       "    </tr>\n",
       "    <tr>\n",
       "      <th>...</th>\n",
       "      <td>...</td>\n",
       "      <td>...</td>\n",
       "    </tr>\n",
       "    <tr>\n",
       "      <th>239</th>\n",
       "      <td>6flpsz</td>\n",
       "      <td>Science/Technology</td>\n",
       "    </tr>\n",
       "    <tr>\n",
       "      <th>240</th>\n",
       "      <td>e8be4n</td>\n",
       "      <td>Scheduled</td>\n",
       "    </tr>\n",
       "    <tr>\n",
       "      <th>241</th>\n",
       "      <td>fe0c0v</td>\n",
       "      <td>AskIndia</td>\n",
       "    </tr>\n",
       "    <tr>\n",
       "      <th>242</th>\n",
       "      <td>fkw5bq</td>\n",
       "      <td>Food</td>\n",
       "    </tr>\n",
       "    <tr>\n",
       "      <th>243</th>\n",
       "      <td>fr7h2i</td>\n",
       "      <td>Food</td>\n",
       "    </tr>\n",
       "  </tbody>\n",
       "</table>\n",
       "<p>244 rows × 2 columns</p>\n",
       "</div>"
      ],
      "text/plain": [
       "        ids               flair\n",
       "0    fl3w6p            Politics\n",
       "1    fnyudn           Scheduled\n",
       "2    3wcid0  Science/Technology\n",
       "3    fw0jft                Food\n",
       "4    fdojuz            Politics\n",
       "..      ...                 ...\n",
       "239  6flpsz  Science/Technology\n",
       "240  e8be4n           Scheduled\n",
       "241  fe0c0v            AskIndia\n",
       "242  fkw5bq                Food\n",
       "243  fr7h2i                Food\n",
       "\n",
       "[244 rows x 2 columns]"
      ]
     },
     "execution_count": 332,
     "metadata": {},
     "output_type": "execute_result"
    }
   ],
   "source": [
    "encoded_predictions = [p.argmax() for p in prediction]\n",
    "preds = le.inverse_transform(encoded_predictions)\n",
    "ids = data.iloc[test_idxs]['id']\n",
    "prediction_df = pd.DataFrame({'ids': ids, 'flair': preds}).reset_index(drop=True)\n",
    "prediction_df"
   ]
  },
  {
   "cell_type": "code",
   "execution_count": null,
   "metadata": {},
   "outputs": [],
   "source": []
  }
 ],
 "metadata": {
  "kernelspec": {
   "display_name": "Python 3.8.5 64-bit",
   "language": "python",
   "name": "python38564bit40f31465e77c45df95a515d1a253e522"
  },
  "language_info": {
   "codemirror_mode": {
    "name": "ipython",
    "version": 3
   },
   "file_extension": ".py",
   "mimetype": "text/x-python",
   "name": "python",
   "nbconvert_exporter": "python",
   "pygments_lexer": "ipython3",
   "version": "3.8.5"
  }
 },
 "nbformat": 4,
 "nbformat_minor": 4
}
