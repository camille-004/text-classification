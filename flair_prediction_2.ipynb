{
 "cells": [
  {
   "cell_type": "markdown",
   "metadata": {},
   "source": [
    "# Load Dataset"
   ]
  },
  {
   "cell_type": "code",
   "execution_count": 55,
   "metadata": {},
   "outputs": [
    {
     "data": {
      "text/html": [
       "<div>\n",
       "<style scoped>\n",
       "    .dataframe tbody tr th:only-of-type {\n",
       "        vertical-align: middle;\n",
       "    }\n",
       "\n",
       "    .dataframe tbody tr th {\n",
       "        vertical-align: top;\n",
       "    }\n",
       "\n",
       "    .dataframe thead th {\n",
       "        text-align: right;\n",
       "    }\n",
       "</style>\n",
       "<table border=\"1\" class=\"dataframe\">\n",
       "  <thead>\n",
       "    <tr style=\"text-align: right;\">\n",
       "      <th></th>\n",
       "      <th>flair</th>\n",
       "      <th>id</th>\n",
       "      <th>text</th>\n",
       "    </tr>\n",
       "  </thead>\n",
       "  <tbody>\n",
       "    <tr>\n",
       "      <th>0</th>\n",
       "      <td>AskIndia</td>\n",
       "      <td>fwjdqr</td>\n",
       "      <td>4 days ago pending orders 100 million hydroxyc...</td>\n",
       "    </tr>\n",
       "    <tr>\n",
       "      <th>1</th>\n",
       "      <td>AskIndia</td>\n",
       "      <td>fizkkk</td>\n",
       "      <td>randians big time users dating apps like tinde...</td>\n",
       "    </tr>\n",
       "    <tr>\n",
       "      <th>2</th>\n",
       "      <td>AskIndia</td>\n",
       "      <td>f25vx0</td>\n",
       "      <td>r india thinks flat earthershavent found india...</td>\n",
       "    </tr>\n",
       "    <tr>\n",
       "      <th>3</th>\n",
       "      <td>AskIndia</td>\n",
       "      <td>dtvliq</td>\n",
       "      <td>people left 9 5 jobs pursue career music art f...</td>\n",
       "    </tr>\n",
       "    <tr>\n",
       "      <th>4</th>\n",
       "      <td>AskIndia</td>\n",
       "      <td>b7pvwt</td>\n",
       "      <td>somebody want kill full familycalm downgo sp o...</td>\n",
       "    </tr>\n",
       "    <tr>\n",
       "      <th>...</th>\n",
       "      <td>...</td>\n",
       "      <td>...</td>\n",
       "      <td>...</td>\n",
       "    </tr>\n",
       "    <tr>\n",
       "      <th>1213</th>\n",
       "      <td>Coronavirus</td>\n",
       "      <td>fxxxrn</td>\n",
       "      <td>actual coronavirus cases least four times repo...</td>\n",
       "    </tr>\n",
       "    <tr>\n",
       "      <th>1214</th>\n",
       "      <td>Coronavirus</td>\n",
       "      <td>fy7ut2</td>\n",
       "      <td>donate helping coronavirusstate government fun...</td>\n",
       "    </tr>\n",
       "    <tr>\n",
       "      <th>1215</th>\n",
       "      <td>Coronavirus</td>\n",
       "      <td>fxul63</td>\n",
       "      <td>youth beaten female doctors attacked delhi pre...</td>\n",
       "    </tr>\n",
       "    <tr>\n",
       "      <th>1216</th>\n",
       "      <td>Coronavirus</td>\n",
       "      <td>fy3n43</td>\n",
       "      <td>coronavirus centre concerned polarisation reli...</td>\n",
       "    </tr>\n",
       "    <tr>\n",
       "      <th>1217</th>\n",
       "      <td>Coronavirus</td>\n",
       "      <td>fy3tg9</td>\n",
       "      <td>coronavirus pooled testing planned zerocase di...</td>\n",
       "    </tr>\n",
       "  </tbody>\n",
       "</table>\n",
       "<p>1218 rows × 3 columns</p>\n",
       "</div>"
      ],
      "text/plain": [
       "            flair      id                                               text\n",
       "0        AskIndia  fwjdqr  4 days ago pending orders 100 million hydroxyc...\n",
       "1        AskIndia  fizkkk  randians big time users dating apps like tinde...\n",
       "2        AskIndia  f25vx0  r india thinks flat earthershavent found india...\n",
       "3        AskIndia  dtvliq  people left 9 5 jobs pursue career music art f...\n",
       "4        AskIndia  b7pvwt  somebody want kill full familycalm downgo sp o...\n",
       "...           ...     ...                                                ...\n",
       "1213  Coronavirus  fxxxrn  actual coronavirus cases least four times repo...\n",
       "1214  Coronavirus  fy7ut2  donate helping coronavirusstate government fun...\n",
       "1215  Coronavirus  fxul63  youth beaten female doctors attacked delhi pre...\n",
       "1216  Coronavirus  fy3n43  coronavirus centre concerned polarisation reli...\n",
       "1217  Coronavirus  fy3tg9  coronavirus pooled testing planned zerocase di...\n",
       "\n",
       "[1218 rows x 3 columns]"
      ]
     },
     "execution_count": 55,
     "metadata": {},
     "output_type": "execute_result"
    }
   ],
   "source": [
    "import numpy as np\n",
    "import pandas as pd\n",
    "import matplotlib.pyplot as plt\n",
    "\n",
    "# Feature Engineering Modules\n",
    "from sklearn.preprocessing import LabelEncoder\n",
    "from sklearn.feature_extraction.text import CountVectorizer, TfidfVectorizer\n",
    "from sklearn.feature_selection import SelectKBest\n",
    "from sklearn.feature_selection import f_classif\n",
    "from sklearn.model_selection import train_test_split\n",
    "\n",
    "# Deep Learning Modules\n",
    "import tensorflow as tf\n",
    "from tensorflow.python.keras import models\n",
    "from tensorflow.python.keras.layers import Dense\n",
    "from tensorflow.python.keras.layers import Dropout\n",
    "\n",
    "data = pd.read_csv('datafinal.csv')[\n",
    "    ['flair', 'id', 'combined_features']\n",
    "].rename(columns={'combined_features': 'text'})\n",
    "data"
   ]
  },
  {
   "cell_type": "markdown",
   "metadata": {},
   "source": [
    "# Encode the Labels"
   ]
  },
  {
   "cell_type": "code",
   "execution_count": 56,
   "metadata": {},
   "outputs": [
    {
     "data": {
      "text/html": [
       "<div>\n",
       "<style scoped>\n",
       "    .dataframe tbody tr th:only-of-type {\n",
       "        vertical-align: middle;\n",
       "    }\n",
       "\n",
       "    .dataframe tbody tr th {\n",
       "        vertical-align: top;\n",
       "    }\n",
       "\n",
       "    .dataframe thead th {\n",
       "        text-align: right;\n",
       "    }\n",
       "</style>\n",
       "<table border=\"1\" class=\"dataframe\">\n",
       "  <thead>\n",
       "    <tr style=\"text-align: right;\">\n",
       "      <th></th>\n",
       "      <th>flair</th>\n",
       "      <th>id</th>\n",
       "      <th>text</th>\n",
       "      <th>n_flair</th>\n",
       "    </tr>\n",
       "  </thead>\n",
       "  <tbody>\n",
       "    <tr>\n",
       "      <th>0</th>\n",
       "      <td>AskIndia</td>\n",
       "      <td>fwjdqr</td>\n",
       "      <td>4 days ago pending orders 100 million hydroxyc...</td>\n",
       "      <td>1</td>\n",
       "    </tr>\n",
       "    <tr>\n",
       "      <th>1</th>\n",
       "      <td>AskIndia</td>\n",
       "      <td>fizkkk</td>\n",
       "      <td>randians big time users dating apps like tinde...</td>\n",
       "      <td>1</td>\n",
       "    </tr>\n",
       "    <tr>\n",
       "      <th>2</th>\n",
       "      <td>AskIndia</td>\n",
       "      <td>f25vx0</td>\n",
       "      <td>r india thinks flat earthershavent found india...</td>\n",
       "      <td>1</td>\n",
       "    </tr>\n",
       "    <tr>\n",
       "      <th>3</th>\n",
       "      <td>AskIndia</td>\n",
       "      <td>dtvliq</td>\n",
       "      <td>people left 9 5 jobs pursue career music art f...</td>\n",
       "      <td>1</td>\n",
       "    </tr>\n",
       "    <tr>\n",
       "      <th>4</th>\n",
       "      <td>AskIndia</td>\n",
       "      <td>b7pvwt</td>\n",
       "      <td>somebody want kill full familycalm downgo sp o...</td>\n",
       "      <td>1</td>\n",
       "    </tr>\n",
       "  </tbody>\n",
       "</table>\n",
       "</div>"
      ],
      "text/plain": [
       "      flair      id                                               text  \\\n",
       "0  AskIndia  fwjdqr  4 days ago pending orders 100 million hydroxyc...   \n",
       "1  AskIndia  fizkkk  randians big time users dating apps like tinde...   \n",
       "2  AskIndia  f25vx0  r india thinks flat earthershavent found india...   \n",
       "3  AskIndia  dtvliq  people left 9 5 jobs pursue career music art f...   \n",
       "4  AskIndia  b7pvwt  somebody want kill full familycalm downgo sp o...   \n",
       "\n",
       "   n_flair  \n",
       "0        1  \n",
       "1        1  \n",
       "2        1  \n",
       "3        1  \n",
       "4        1  "
      ]
     },
     "execution_count": 56,
     "metadata": {},
     "output_type": "execute_result"
    }
   ],
   "source": [
    "le = LabelEncoder()\n",
    "le.fit(data['flair'])\n",
    "data['n_flair'] = le.transform(data['flair'])\n",
    "data.head()"
   ]
  },
  {
   "cell_type": "markdown",
   "metadata": {},
   "source": [
    "# Explore Data\n",
    "## Collect Key Metrics"
   ]
  },
  {
   "cell_type": "code",
   "execution_count": 57,
   "metadata": {
    "scrolled": true
   },
   "outputs": [
    {
     "name": "stdout",
     "output_type": "stream",
     "text": [
      "Number of samples: 1218\n",
      "--\n",
      "Number of classes: 13\n",
      "--\n",
      "Number of samples per class:\n",
      "    Science/Technology: 100\n",
      "    Food: 100\n",
      "    Coronavirus: 100\n",
      "    Scheduled: 100\n",
      "    Sports: 100\n",
      "    Photography: 100\n",
      "    AMA: 100\n",
      "    AskIndia: 100\n",
      "    Policy/Economy: 100\n",
      "    Business/Finance: 100\n",
      "    Non-Political: 100\n",
      "    Politics: 100\n",
      "    [R]eddiquette: 18\n",
      "--\n",
      "Median length of text:\n",
      "    Politics: 1134.0\n",
      "    Non-Political: 711.5\n",
      "    Food: 992.5\n",
      "    Business/Finance: 2665.0\n",
      "    Science/Technology: 1376.0\n",
      "    Sports: 1108.0\n",
      "    AMA: 3171.5\n",
      "    Coronavirus: 365.5\n",
      "    [R]eddiquette: 1410.0\n",
      "    Scheduled: 1188.5\n",
      "    Photography: 524.5\n",
      "    Policy/Economy: 2485.5\n",
      "    AskIndia: 1314.0\n"
     ]
    }
   ],
   "source": [
    "n_samples = len(data)\n",
    "n_classes = len(list(set(data['flair'])))\n",
    "n_samples_per_class = data['flair'].value_counts().to_dict()\n",
    "median_words_per_sample = [\n",
    "    np.median(\n",
    "        data[data['flair'] == f]['text'].str.len()\n",
    "    ) for f in list(set(data['flair']))]\n",
    "                                                                                                  \n",
    "print(f'Number of samples: {n_samples}')\n",
    "print('--')\n",
    "print(f'Number of classes: {n_classes}')\n",
    "print('--')\n",
    "print('Number of samples per class:')\n",
    "for key, value in n_samples_per_class.items():\n",
    "    print(f'    {key}: {value}')\n",
    "print('--')\n",
    "print(f'Median length of text:')\n",
    "for c, l in list(zip(list(\n",
    "    set(data['flair'])), median_words_per_sample)):\n",
    "    print(f'    {c}: {l}')"
   ]
  },
  {
   "cell_type": "markdown",
   "metadata": {},
   "source": [
    "## Plot Frequency Distribution of N-Grams"
   ]
  },
  {
   "cell_type": "code",
   "execution_count": 58,
   "metadata": {},
   "outputs": [
    {
     "data": {
      "image/png": "[encoded data removed]",
      "text/plain": [
       "<Figure size 1008x360 with 1 Axes>"
      ]
     },
     "metadata": {
      "needs_background": "light"
     },
     "output_type": "display_data"
    }
   ],
   "source": [
    "def plot_ngrams(sample_texts, ngram_range=(1, 2), n_ngrams=50):\n",
    "    \"\"\"Plots the frequency distribution of n-grams.\n",
    "    \n",
    "    Parameters\n",
    "    ----------\n",
    "    sample_texts : list\n",
    "        Sample texts\n",
    "    ngram_range : tuple\n",
    "        The range of n-gram values to consider.\n",
    "    n_ngrams : int\n",
    "        Number of n-grams to plot\n",
    "    \"\"\"\n",
    "    # Create arguments for vectorizing\n",
    "    kwargs = {\n",
    "        'ngram_range': (1, 1),\n",
    "        'dtype': 'int32',\n",
    "        'strip_accents': 'unicode',\n",
    "        'decode_error': 'replace',\n",
    "        'analyzer': 'word'\n",
    "    }\n",
    "    \n",
    "    cv = CountVectorizer(**kwargs)\n",
    "    \n",
    "    # Create vocabulary (dict, with keys as n-grams and values as\n",
    "    # indices). Converts every text to array length of vocabulary,\n",
    "    # the elements of which are the count of each n-gram\n",
    "    vectorized_texts = cv.fit_transform(sample_texts)\n",
    "    all_ngrams = list(cv.get_feature_names())\n",
    "    n_ngrams = min(n_ngrams, len(all_ngrams))\n",
    "    \n",
    "    # Add up counts per n-gram, one row per n-gram, hence axis=0\n",
    "    counts = vectorized_texts.sum(axis=0).tolist()[0]\n",
    "    \n",
    "    # Sort n-grams and counts by freq. and get top n n-grams\n",
    "    counts, all_ngrams = zip(*[(c, n) for c, n in sorted(\n",
    "    zip(counts, all_ngrams), reverse=True)])\n",
    "    ngrams = list(all_ngrams)[:n_ngrams]\n",
    "    cnts = list(counts)[:n_ngrams]\n",
    "    \n",
    "    idx = np.arange(n_ngrams)\n",
    "    plt.figure(figsize=(14, 5))\n",
    "    plt.bar(idx, cnts, width=0.8)\n",
    "    plt.xlabel('N-Grams')\n",
    "    plt.ylabel('Frequencies')\n",
    "    plt.title('Frequency Distribution of N-Grams')\n",
    "    plt.xticks(idx, ngrams, rotation=45)\n",
    "\n",
    "plot_ngrams(data['text'])"
   ]
  },
  {
   "cell_type": "markdown",
   "metadata": {},
   "source": [
    "## Plot the Number of Words Per Sample"
   ]
  },
  {
   "cell_type": "code",
   "execution_count": 59,
   "metadata": {
    "scrolled": true
   },
   "outputs": [
    {
     "data": {
      "image/png": "[encoded data removed]",
      "text/plain": [
       "<Figure size 576x360 with 1 Axes>"
      ]
     },
     "metadata": {
      "needs_background": "light"
     },
     "output_type": "display_data"
    }
   ],
   "source": [
    "def plot_words_per_sample(sample_texts):\n",
    "    \"\"\"Plots the sample length distribution\n",
    "    \n",
    "    Parameters\n",
    "    ----------\n",
    "    sample_texts : list\n",
    "        Sample texts\n",
    "    \n",
    "    \"\"\"\n",
    "    plt.figure(figsize=(8, 5))\n",
    "    plt.hist([len(s) for s in sample_texts], 50)\n",
    "    plt.xlabel('Sample Length')\n",
    "    plt.ylabel('Frequency')\n",
    "    plt.title('Sample Length Distribution')\n",
    "\n",
    "plot_words_per_sample(data['text'])"
   ]
  },
  {
   "cell_type": "markdown",
   "metadata": {},
   "source": [
    "# Choose the Model\n",
    "> How do we present the text data to an algorithm that expects numeric input?\n",
    "\n",
    "In order for us to get an idea of the complexity of the model we'll be using, we should first calculate the ratio of the number of samples to the number of words per sample."
   ]
  },
  {
   "cell_type": "code",
   "execution_count": 60,
   "metadata": {
    "scrolled": true
   },
   "outputs": [
    {
     "data": {
      "text/plain": [
       "18.79423076923077"
      ]
     },
     "execution_count": 60,
     "metadata": {},
     "output_type": "execute_result"
    }
   ],
   "source": [
    "# Divide two lists\n",
    "ratio = [i / j for i, j in zip(median_words_per_sample, list(n_samples_per_class.values()))]\n",
    "avg_ratio = sum(ratio) / len(ratio)\n",
    "avg_ratio"
   ]
  },
  {
   "cell_type": "markdown",
   "metadata": {},
   "source": [
    "Thankfully, this is a very small ratio compared to what we would need to build complex CNNs. We'll need to tokenize the text as sequences and classify them with a multi-layer perceptron. \n",
    "# Prepare the Data\n",
    "It is good practice to shuffle our data before feeding it into a model so it won't be affected by data order. Then, we'll need to tokenize our dataset to build its vocabulary. We'll tokenize it into unigrams and bigrams, and then generate a TF-IDF vector of the length of the vocabulary."
   ]
  },
  {
   "cell_type": "code",
   "execution_count": 67,
   "metadata": {},
   "outputs": [
    {
     "data": {
      "text/plain": [
       "(1218, 52354)"
      ]
     },
     "execution_count": 67,
     "metadata": {},
     "output_type": "execute_result"
    }
   ],
   "source": [
    "data = data.sample(frac=1).reset_index(drop=True)\n",
    "\n",
    "kwargs = {\n",
    "    'ngram_range': (1, 2),\n",
    "    'dtype': 'int32',\n",
    "    'strip_accents': 'unicode',\n",
    "    'decode_error': 'replace',\n",
    "    'analyzer': 'word',\n",
    "    'min_df': 2 # document/corpus freq. below which a token will be discarded\n",
    "}\n",
    "vec = TfidfVectorizer()\n",
    "X = vec.fit_transform(data['text']).toarray()\n",
    "X.shape"
   ]
  },
  {
   "cell_type": "markdown",
   "metadata": {},
   "source": [
    "We have 1,218 samples, and 52,354 features extracted by the TF-IDF vectorizer.\n",
    "## Feature Selection\n",
    "Use the ANOVA f-value to pick the top 20,000 features from the vector of tokens."
   ]
  },
  {
   "cell_type": "code",
   "execution_count": 68,
   "metadata": {},
   "outputs": [
    {
     "data": {
      "text/plain": [
       "(1218, 20000)"
      ]
     },
     "execution_count": 68,
     "metadata": {},
     "output_type": "execute_result"
    }
   ],
   "source": [
    "TOP_K = 20000\n",
    "\n",
    "select = SelectKBest(f_classif, k=min(TOP_K, X.shape[1]))\n",
    "select.fit(X, data['n_flair'])\n",
    "X = select.transform(X).astype('float32')\n",
    "X.shape"
   ]
  },
  {
   "cell_type": "markdown",
   "metadata": {},
   "source": [
    "## Train/Test Split"
   ]
  },
  {
   "cell_type": "code",
   "execution_count": 69,
   "metadata": {},
   "outputs": [],
   "source": [
    "X_train, X_test, y_train, y_test = train_test_split(\n",
    "    X, data['n_flair'], test_size=0.33, random_state=42)\n",
    "model_data = (X_train, y_train), (X_test, y_test)"
   ]
  },
  {
   "cell_type": "markdown",
   "metadata": {},
   "source": [
    "# Building and Training the Model\n",
    "We are building a model that processes individual tokens (i.e., not worrying about word order). Multi-layer perceptrons typically perform best with n-gram models, so that's what we'll be building using `keras`."
   ]
  },
  {
   "cell_type": "code",
   "execution_count": 74,
   "metadata": {},
   "outputs": [],
   "source": [
    "def build_model(n_layers, units, dropout_rate, input_shape, n_classes):\n",
    "    \"\"\"Builds n-gram model\n",
    "    \n",
    "    Parameters\n",
    "    ----------\n",
    "    n_layers : int\n",
    "        Number of Dense layers in model\n",
    "    units : int\n",
    "        Output dimension of layers\n",
    "    dropout_rate : float\n",
    "        Percentage of input to drop at Dropout layers\n",
    "    input_shape : tuple\n",
    "        Shape of input to the model\n",
    "    n_classes : int\n",
    "        Number of input classes\n",
    "        \n",
    "    Returns\n",
    "    -------\n",
    "    Fully-connected model\n",
    "    \"\"\"\n",
    "    model = models.Sequential()\n",
    "    model.add(Dropout(rate=dropout_rate, input_shape=input_shape))\n",
    "    \n",
    "    for _ in range(n_layers - 1):\n",
    "        model.add(Dense(units=units, activation='relu'))\n",
    "        model.add(Dropout(rate=dropout_rate))\n",
    "        \n",
    "    model.add(Dense(n_classes, 'softmax'))\n",
    "    return model\n",
    "\n",
    "def train_model(data, \n",
    "                lr=0.001, \n",
    "                epochs=1000, \n",
    "                batch_size=32, \n",
    "                n_layers=2, \n",
    "                units=64, \n",
    "                dropout_rate=0.2):\n",
    "    \"\"\"Trains n-gram model\n",
    "    \n",
    "    Parameters\n",
    "    ----------\n",
    "    data : tuple\n",
    "        Tuple containing tuples of training and testing text and labels\n",
    "    learning_rate : float\n",
    "        Learning rate for optimizer\n",
    "    epochs : int\n",
    "        Number of epochs\n",
    "    batch_size : int\n",
    "        # of samples per batch\n",
    "    layers : int\n",
    "        Number of Dense layers in model\n",
    "    units : int\n",
    "        Output dimension of Dense layers\n",
    "    dropout_rate : float\n",
    "        Percentage of input to drop at Dropout layers\n",
    "    \"\"\"\n",
    "    (text_train, labels_train), (text_test, labels_test) = data\n",
    "    n_classes = len(list(set(labels_train.append(labels_test))))\n",
    "    \n",
    "    # Create model instance\n",
    "    model = build_model(\n",
    "        n_layers=n_layers,\n",
    "        units=units,\n",
    "        dropout_rate=dropout_rate,\n",
    "        input_shape=text_train.shape[1:],\n",
    "        n_classes=n_classes\n",
    "    )\n",
    "    \n",
    "    loss = 'sparse_categorical_crossentropy'\n",
    "    optimizer = tf.keras.optimizers.Adam(lr=lr)\n",
    "    model.compile(optimizer=optimizer, loss=loss, metrics=['acc'])\n",
    "    \n",
    "    # Early stopping\n",
    "    callbacks = [tf.keras.callbacks.EarlyStopping(\n",
    "        monitor='val_loss', patience=2)]\n",
    "    \n",
    "    # Train and validate\n",
    "    history = model.fit(\n",
    "        text_train,\n",
    "        labels_train,\n",
    "        epochs=epochs,\n",
    "        callbacks=callbacks,\n",
    "        validation_data=(text_test, labels_test),\n",
    "        verbose=2,\n",
    "        batch_size=batch_size\n",
    "    )\n",
    "    \n",
    "    history = history.history\n",
    "    print('Validation accuracy: {acc}, loss: {loss}'.format(\n",
    "            acc=history['val_acc'][-1], loss=history['val_loss'][-1]))"
   ]
  },
  {
   "cell_type": "code",
   "execution_count": 75,
   "metadata": {},
   "outputs": [
    {
     "name": "stdout",
     "output_type": "stream",
     "text": [
      "Epoch 1/1000\n",
      "26/26 - 0s - loss: 2.5487 - acc: 0.1912 - val_loss: 2.5227 - val_acc: 0.3856\n",
      "Epoch 2/1000\n",
      "26/26 - 0s - loss: 2.4333 - acc: 0.6618 - val_loss: 2.4381 - val_acc: 0.4925\n",
      "Epoch 3/1000\n",
      "26/26 - 0s - loss: 2.2422 - acc: 0.8002 - val_loss: 2.3287 - val_acc: 0.5522\n",
      "Epoch 4/1000\n",
      "26/26 - 0s - loss: 2.0162 - acc: 0.8701 - val_loss: 2.2079 - val_acc: 0.5697\n",
      "Epoch 5/1000\n",
      "26/26 - 0s - loss: 1.7544 - acc: 0.9338 - val_loss: 2.0776 - val_acc: 0.6045\n",
      "Epoch 6/1000\n",
      "26/26 - 0s - loss: 1.4991 - acc: 0.9301 - val_loss: 1.9496 - val_acc: 0.6244\n",
      "Epoch 7/1000\n",
      "26/26 - 0s - loss: 1.2462 - acc: 0.9669 - val_loss: 1.8221 - val_acc: 0.6617\n",
      "Epoch 8/1000\n",
      "26/26 - 0s - loss: 1.0074 - acc: 0.9694 - val_loss: 1.7143 - val_acc: 0.6716\n",
      "Epoch 9/1000\n",
      "26/26 - 0s - loss: 0.8237 - acc: 0.9730 - val_loss: 1.6146 - val_acc: 0.6915\n",
      "Epoch 10/1000\n",
      "26/26 - 0s - loss: 0.6636 - acc: 0.9681 - val_loss: 1.5333 - val_acc: 0.7040\n",
      "Epoch 11/1000\n",
      "26/26 - 0s - loss: 0.5553 - acc: 0.9730 - val_loss: 1.4675 - val_acc: 0.7040\n",
      "Epoch 12/1000\n",
      "26/26 - 0s - loss: 0.4489 - acc: 0.9865 - val_loss: 1.4093 - val_acc: 0.7065\n",
      "Epoch 13/1000\n",
      "26/26 - 0s - loss: 0.3877 - acc: 0.9792 - val_loss: 1.3642 - val_acc: 0.7040\n",
      "Epoch 14/1000\n",
      "26/26 - 0s - loss: 0.3295 - acc: 0.9792 - val_loss: 1.3329 - val_acc: 0.7015\n",
      "Epoch 15/1000\n",
      "26/26 - 0s - loss: 0.2747 - acc: 0.9841 - val_loss: 1.2997 - val_acc: 0.7015\n",
      "Epoch 16/1000\n",
      "26/26 - 0s - loss: 0.2457 - acc: 0.9792 - val_loss: 1.2739 - val_acc: 0.6990\n",
      "Epoch 17/1000\n",
      "26/26 - 0s - loss: 0.2123 - acc: 0.9828 - val_loss: 1.2491 - val_acc: 0.7040\n",
      "Epoch 18/1000\n",
      "26/26 - 0s - loss: 0.1863 - acc: 0.9865 - val_loss: 1.2351 - val_acc: 0.6990\n",
      "Epoch 19/1000\n",
      "26/26 - 0s - loss: 0.1756 - acc: 0.9779 - val_loss: 1.2144 - val_acc: 0.6990\n",
      "Epoch 20/1000\n",
      "26/26 - 0s - loss: 0.1530 - acc: 0.9828 - val_loss: 1.2040 - val_acc: 0.6990\n",
      "Epoch 21/1000\n",
      "26/26 - 0s - loss: 0.1423 - acc: 0.9865 - val_loss: 1.1892 - val_acc: 0.6990\n",
      "Epoch 22/1000\n",
      "26/26 - 0s - loss: 0.1220 - acc: 0.9828 - val_loss: 1.1793 - val_acc: 0.6940\n",
      "Epoch 23/1000\n",
      "26/26 - 0s - loss: 0.1192 - acc: 0.9841 - val_loss: 1.1663 - val_acc: 0.6915\n",
      "Epoch 24/1000\n",
      "26/26 - 0s - loss: 0.1084 - acc: 0.9853 - val_loss: 1.1573 - val_acc: 0.7015\n",
      "Epoch 25/1000\n",
      "26/26 - 0s - loss: 0.1026 - acc: 0.9804 - val_loss: 1.1542 - val_acc: 0.7040\n",
      "Epoch 26/1000\n",
      "26/26 - 0s - loss: 0.1006 - acc: 0.9841 - val_loss: 1.1489 - val_acc: 0.7040\n",
      "Epoch 27/1000\n",
      "26/26 - 0s - loss: 0.0917 - acc: 0.9816 - val_loss: 1.1381 - val_acc: 0.7114\n",
      "Epoch 28/1000\n",
      "26/26 - 0s - loss: 0.0858 - acc: 0.9853 - val_loss: 1.1337 - val_acc: 0.7090\n",
      "Epoch 29/1000\n",
      "26/26 - 0s - loss: 0.0778 - acc: 0.9853 - val_loss: 1.1325 - val_acc: 0.7040\n",
      "Epoch 30/1000\n",
      "26/26 - 0s - loss: 0.0764 - acc: 0.9853 - val_loss: 1.1313 - val_acc: 0.6990\n",
      "Epoch 31/1000\n",
      "26/26 - 0s - loss: 0.0781 - acc: 0.9828 - val_loss: 1.1265 - val_acc: 0.7065\n",
      "Epoch 32/1000\n",
      "26/26 - 0s - loss: 0.0740 - acc: 0.9828 - val_loss: 1.1227 - val_acc: 0.7114\n",
      "Epoch 33/1000\n",
      "26/26 - 0s - loss: 0.0650 - acc: 0.9877 - val_loss: 1.1214 - val_acc: 0.7139\n",
      "Epoch 34/1000\n",
      "26/26 - 0s - loss: 0.0670 - acc: 0.9841 - val_loss: 1.1171 - val_acc: 0.7114\n",
      "Epoch 35/1000\n",
      "26/26 - 0s - loss: 0.0617 - acc: 0.9853 - val_loss: 1.1114 - val_acc: 0.7090\n",
      "Epoch 36/1000\n",
      "26/26 - 0s - loss: 0.0628 - acc: 0.9828 - val_loss: 1.1089 - val_acc: 0.7090\n",
      "Epoch 37/1000\n",
      "26/26 - 0s - loss: 0.0631 - acc: 0.9853 - val_loss: 1.1062 - val_acc: 0.7139\n",
      "Epoch 38/1000\n",
      "26/26 - 0s - loss: 0.0623 - acc: 0.9828 - val_loss: 1.1094 - val_acc: 0.7164\n",
      "Epoch 39/1000\n",
      "26/26 - 0s - loss: 0.0578 - acc: 0.9816 - val_loss: 1.1046 - val_acc: 0.7164\n",
      "Epoch 40/1000\n",
      "26/26 - 0s - loss: 0.0585 - acc: 0.9804 - val_loss: 1.1058 - val_acc: 0.7040\n",
      "Epoch 41/1000\n",
      "26/26 - 0s - loss: 0.0534 - acc: 0.9841 - val_loss: 1.1032 - val_acc: 0.7090\n",
      "Epoch 42/1000\n",
      "26/26 - 0s - loss: 0.0571 - acc: 0.9877 - val_loss: 1.1024 - val_acc: 0.7139\n",
      "Epoch 43/1000\n",
      "26/26 - 0s - loss: 0.0478 - acc: 0.9841 - val_loss: 1.1021 - val_acc: 0.7114\n",
      "Epoch 44/1000\n",
      "26/26 - 0s - loss: 0.0488 - acc: 0.9865 - val_loss: 1.1004 - val_acc: 0.7065\n",
      "Epoch 45/1000\n",
      "26/26 - 0s - loss: 0.0505 - acc: 0.9804 - val_loss: 1.1032 - val_acc: 0.7040\n",
      "Epoch 46/1000\n",
      "26/26 - 0s - loss: 0.0476 - acc: 0.9890 - val_loss: 1.0998 - val_acc: 0.7065\n",
      "Epoch 47/1000\n",
      "26/26 - 0s - loss: 0.0499 - acc: 0.9865 - val_loss: 1.1006 - val_acc: 0.7090\n",
      "Epoch 48/1000\n",
      "26/26 - 0s - loss: 0.0513 - acc: 0.9853 - val_loss: 1.0992 - val_acc: 0.7114\n",
      "Epoch 49/1000\n",
      "26/26 - 0s - loss: 0.0511 - acc: 0.9828 - val_loss: 1.0988 - val_acc: 0.7164\n",
      "Epoch 50/1000\n",
      "26/26 - 0s - loss: 0.0413 - acc: 0.9890 - val_loss: 1.1031 - val_acc: 0.7065\n",
      "Epoch 51/1000\n",
      "26/26 - 0s - loss: 0.0440 - acc: 0.9853 - val_loss: 1.0992 - val_acc: 0.7090\n",
      "Validation accuracy: 0.7089552283287048, loss: 1.0992274284362793\n"
     ]
    }
   ],
   "source": [
    "train_model(model_data)"
   ]
  },
  {
   "cell_type": "code",
   "execution_count": null,
   "metadata": {},
   "outputs": [],
   "source": []
  }
 ],
 "metadata": {
  "kernelspec": {
   "display_name": "Python 3.8.5 64-bit",
   "language": "python",
   "name": "python38564bit40f31465e77c45df95a515d1a253e522"
  },
  "language_info": {
   "codemirror_mode": {
    "name": "ipython",
    "version": 3
   },
   "file_extension": ".py",
   "mimetype": "text/x-python",
   "name": "python",
   "nbconvert_exporter": "python",
   "pygments_lexer": "ipython3",
   "version": "3.8.5"
  }
 },
 "nbformat": 4,
 "nbformat_minor": 4
}
